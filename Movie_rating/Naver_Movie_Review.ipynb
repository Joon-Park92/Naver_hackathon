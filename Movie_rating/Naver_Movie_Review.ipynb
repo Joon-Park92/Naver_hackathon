{
 "cells": [
  {
   "cell_type": "code",
   "execution_count": 6,
   "metadata": {
    "collapsed": false
   },
   "outputs": [],
   "source": [
    "from __future__ import division\n",
    "from __future__ import print_function\n",
    "\n",
    "import numpy as np\n",
    "import pandas as pd\n",
    "import regex as re\n",
    "import tqdm\n",
    "import re\n",
    "import matplotlib.pyplot as plt\n",
    "import seaborn as sns\n",
    "sns.set_style('whitegrid')\n",
    "\n",
    "%matplotlib inline\n",
    "\n",
    "\n",
    "from load_data import load_original_data\n",
    "from collections import Counter"
   ]
  },
  {
   "cell_type": "code",
   "execution_count": 12,
   "metadata": {
    "collapsed": false
   },
   "outputs": [],
   "source": [
    "with open('/media/disk1/public_milab/ko.tsv', 'r') as f:\n",
    "    data = f.read().split('\\t')"
   ]
  },
  {
   "cell_type": "code",
   "execution_count": 2,
   "metadata": {
    "collapsed": false,
    "scrolled": false
   },
   "outputs": [
    {
     "data": {
      "text/html": [
       "<div>\n",
       "<style>\n",
       "    .dataframe thead tr:only-child th {\n",
       "        text-align: right;\n",
       "    }\n",
       "\n",
       "    .dataframe thead th {\n",
       "        text-align: left;\n",
       "    }\n",
       "\n",
       "    .dataframe tbody tr th {\n",
       "        vertical-align: top;\n",
       "    }\n",
       "</style>\n",
       "<table border=\"1\" class=\"dataframe\">\n",
       "  <thead>\n",
       "    <tr style=\"text-align: right;\">\n",
       "      <th></th>\n",
       "      <th>author</th>\n",
       "      <th>date</th>\n",
       "      <th>movie_id</th>\n",
       "      <th>rating</th>\n",
       "      <th>review</th>\n",
       "      <th>review_id</th>\n",
       "    </tr>\n",
       "  </thead>\n",
       "  <tbody>\n",
       "    <tr>\n",
       "      <th>113112</th>\n",
       "      <td>sfor****</td>\n",
       "      <td>2011-10-06</td>\n",
       "      <td>12165</td>\n",
       "      <td>7</td>\n",
       "      <td>스토리가 이거 원 액션하나는 최고</td>\n",
       "      <td>4558782</td>\n",
       "    </tr>\n",
       "    <tr>\n",
       "      <th>438125</th>\n",
       "      <td>movi****</td>\n",
       "      <td>2018-09-08</td>\n",
       "      <td>50773</td>\n",
       "      <td>10</td>\n",
       "      <td>이런게 진짜 공포 아닐까? 내 죄도 거기 있었다</td>\n",
       "      <td>3762820</td>\n",
       "    </tr>\n",
       "    <tr>\n",
       "      <th>193173</th>\n",
       "      <td>soge****</td>\n",
       "      <td>2027-10-02</td>\n",
       "      <td>17874</td>\n",
       "      <td>10</td>\n",
       "      <td>역사에 길이 남을 명작</td>\n",
       "      <td>4321028</td>\n",
       "    </tr>\n",
       "    <tr>\n",
       "      <th>442908</th>\n",
       "      <td>expr****</td>\n",
       "      <td>2007-08-14</td>\n",
       "      <td>51447</td>\n",
       "      <td>4</td>\n",
       "      <td>상수 가라사대, 다 아는 척 하지 말지어다</td>\n",
       "      <td>9047281</td>\n",
       "    </tr>\n",
       "    <tr>\n",
       "      <th>144036</th>\n",
       "      <td>vm4e****</td>\n",
       "      <td>2026-11-14</td>\n",
       "      <td>130704</td>\n",
       "      <td>5</td>\n",
       "      <td>식물급 경찰들과 초능력을 가진 듯한 주인공.. 개연성이 정말 없고 결말도 막장급.....</td>\n",
       "      <td>9422635</td>\n",
       "    </tr>\n",
       "    <tr>\n",
       "      <th>578035</th>\n",
       "      <td>ghlt****</td>\n",
       "      <td>2009-10-13</td>\n",
       "      <td>73601</td>\n",
       "      <td>6</td>\n",
       "      <td>재밌게 보긴했는데...전세계가 극찬한 미스터리의 발견...????은 아닌거같은데 ....</td>\n",
       "      <td>8047036</td>\n",
       "    </tr>\n",
       "    <tr>\n",
       "      <th>506135</th>\n",
       "      <td>guev****</td>\n",
       "      <td>2007-12-13</td>\n",
       "      <td>64185</td>\n",
       "      <td>6</td>\n",
       "      <td>그럭저럭 킬링타임용에 그치는군</td>\n",
       "      <td>8196211</td>\n",
       "    </tr>\n",
       "    <tr>\n",
       "      <th>140698</th>\n",
       "      <td>sson****</td>\n",
       "      <td>2014-12-14</td>\n",
       "      <td>129551</td>\n",
       "      <td>9</td>\n",
       "      <td>인간이 몸으로 보여주는 아름다움의 극치</td>\n",
       "      <td>9475029</td>\n",
       "    </tr>\n",
       "    <tr>\n",
       "      <th>177972</th>\n",
       "      <td>free****</td>\n",
       "      <td>2026-06-01</td>\n",
       "      <td>17212</td>\n",
       "      <td>7</td>\n",
       "      <td>연기는 좋았지만.. 영화는 글쎄?</td>\n",
       "      <td>623347</td>\n",
       "    </tr>\n",
       "    <tr>\n",
       "      <th>266058</th>\n",
       "      <td>hyeo****</td>\n",
       "      <td>2009-08-14</td>\n",
       "      <td>30889</td>\n",
       "      <td>8</td>\n",
       "      <td>영화를 보고 생각해봐라. 누가 저런 칼맞고 언제죽을지도 모르는, 헛되고 찌그러진 삶...</td>\n",
       "      <td>9053963</td>\n",
       "    </tr>\n",
       "  </tbody>\n",
       "</table>\n",
       "</div>"
      ],
      "text/plain": [
       "          author        date  movie_id  rating  \\\n",
       "113112  sfor****  2011-10-06     12165       7   \n",
       "438125  movi****  2018-09-08     50773      10   \n",
       "193173  soge****  2027-10-02     17874      10   \n",
       "442908  expr****  2007-08-14     51447       4   \n",
       "144036  vm4e****  2026-11-14    130704       5   \n",
       "578035  ghlt****  2009-10-13     73601       6   \n",
       "506135  guev****  2007-12-13     64185       6   \n",
       "140698  sson****  2014-12-14    129551       9   \n",
       "177972  free****  2026-06-01     17212       7   \n",
       "266058  hyeo****  2009-08-14     30889       8   \n",
       "\n",
       "                                                   review  review_id  \n",
       "113112                                 스토리가 이거 원 액션하나는 최고    4558782  \n",
       "438125                         이런게 진짜 공포 아닐까? 내 죄도 거기 있었다    3762820  \n",
       "193173                                       역사에 길이 남을 명작    4321028  \n",
       "442908                            상수 가라사대, 다 아는 척 하지 말지어다    9047281  \n",
       "144036  식물급 경찰들과 초능력을 가진 듯한 주인공.. 개연성이 정말 없고 결말도 막장급.....    9422635  \n",
       "578035  재밌게 보긴했는데...전세계가 극찬한 미스터리의 발견...????은 아닌거같은데 ....    8047036  \n",
       "506135                                   그럭저럭 킬링타임용에 그치는군    8196211  \n",
       "140698                              인간이 몸으로 보여주는 아름다움의 극치    9475029  \n",
       "177972                                 연기는 좋았지만.. 영화는 글쎄?     623347  \n",
       "266058  영화를 보고 생각해봐라. 누가 저런 칼맞고 언제죽을지도 모르는, 헛되고 찌그러진 삶...    9053963  "
      ]
     },
     "execution_count": 2,
     "metadata": {},
     "output_type": "execute_result"
    }
   ],
   "source": [
    "review = load_original_data()\n",
    "review.dropna(inplace =True)\n",
    "review.sample(10)"
   ]
  },
  {
   "cell_type": "code",
   "execution_count": 14,
   "metadata": {
    "collapsed": true
   },
   "outputs": [],
   "source": [
    "import pickle\n",
    "\n",
    "with open('/media/disk1/public_milab/polyglot-ko.pkl', 'rb') as f:\n",
    "    data = pickle.load(f)"
   ]
  },
  {
   "cell_type": "code",
   "execution_count": null,
   "metadata": {
    "collapsed": false
   },
   "outputs": [],
   "source": [
    "import codecs\n",
    "\n",
    "with codecs.open('./test','wb', encoding='utf-8') as f:\n",
    "    for rev in review.review:\n",
    "        for word in re.sub(ur\"\\p{P}+\", \"\", rev).split():\n",
    "            if word in voca_list:\n",
    "                f.write(word+' ')\n",
    "            else:\n",
    "                f.write('<UNK> ')\n",
    "        f.write('\\n'+ re.sub(\"^[\\p{P}]+\", \"\", rev))\n",
    "        f.write('\\n\\n')"
   ]
  },
  {
   "cell_type": "markdown",
   "metadata": {},
   "source": [
    "### Rating Distribution"
   ]
  },
  {
   "cell_type": "code",
   "execution_count": 13,
   "metadata": {
    "collapsed": false,
    "scrolled": true
   },
   "outputs": [
    {
     "data": {
      "text/plain": [
       "<matplotlib.axes._subplots.AxesSubplot at 0x7fda140f82d0>"
      ]
     },
     "execution_count": 13,
     "metadata": {},
     "output_type": "execute_result"
    },
    {
     "data": {
      "image/png": "[encoded data removed]",
      "text/plain": [
       "<matplotlib.figure.Figure at 0x7fda1dcc6a90>"
      ]
     },
     "metadata": {},
     "output_type": "display_data"
    }
   ],
   "source": [
    "sns.countplot(x=review.rating)"
   ]
  },
  {
   "cell_type": "markdown",
   "metadata": {},
   "source": [
    "### Length of reviews"
   ]
  },
  {
   "cell_type": "code",
   "execution_count": 8,
   "metadata": {
    "collapsed": false
   },
   "outputs": [],
   "source": [
    "review['length'] = review.review.apply(lambda x : len(x))"
   ]
  },
  {
   "cell_type": "code",
   "execution_count": 14,
   "metadata": {
    "collapsed": false,
    "scrolled": false
   },
   "outputs": [
    {
     "data": {
      "text/plain": [
       "<matplotlib.axes._subplots.AxesSubplot at 0x7fda04660710>"
      ]
     },
     "execution_count": 14,
     "metadata": {},
     "output_type": "execute_result"
    },
    {
     "data": {
      "image/png": "[encoded data removed]",
      "text/plain": [
       "<matplotlib.figure.Figure at 0x7fda050350d0>"
      ]
     },
     "metadata": {},
     "output_type": "display_data"
    }
   ],
   "source": [
    "sns.distplot(review.length)"
   ]
  },
  {
   "cell_type": "markdown",
   "metadata": {},
   "source": [
    "### Review Word distribution"
   ]
  },
  {
   "cell_type": "code",
   "execution_count": 4,
   "metadata": {
    "collapsed": true
   },
   "outputs": [],
   "source": [
    "count = Counter([split for split_list in review.review.apply(lambda text : text.split()) for split in split_list])"
   ]
  },
  {
   "cell_type": "code",
   "execution_count": 12,
   "metadata": {
    "collapsed": false
   },
   "outputs": [
    {
     "data": {
      "image/png": "[encoded data removed]",
      "text/plain": [
       "<matplotlib.figure.Figure at 0x7fda12b1eed0>"
      ]
     },
     "metadata": {},
     "output_type": "display_data"
    }
   ],
   "source": [
    "fig, axes = plt.subplots(1, 3, sharey=False, figsize = (15,3))\n",
    "\n",
    "num_words = [100, 1000, 10000]\n",
    "for ax, num_word in zip(axes, num_words):\n",
    "    ax.plot([i for i in range(num_word)], [right/len(count) * 100 for _, right in count.most_common(num_word)])\n",
    "    ax.set_title('Index to {}'.format(num_word))"
   ]
  },
  {
   "cell_type": "code",
   "execution_count": 15,
   "metadata": {
    "collapsed": false
   },
   "outputs": [
    {
     "data": {
      "image/png": "[encoded data removed]",
      "text/plain": [
       "<matplotlib.figure.Figure at 0x7fda0d7d9d10>"
      ]
     },
     "metadata": {},
     "output_type": "display_data"
    }
   ],
   "source": [
    "fig, axes = plt.subplots(1, 3, sharey=False, figsize = (15,3))\n",
    "\n",
    "num_words = [100, 1000, 10000]\n",
    "before = 0 \n",
    "\n",
    "for ax, num_word in zip(axes, num_words):\n",
    "    ax.plot([i for i in range(before, num_word)], [right/len(count) * 100 for _, right in count.most_common(num_word)][before:num_word])\n",
    "    ax.set_title('Frequency(%) index from {} to {}'.format(before, num_word))\n",
    "    before = num_word"
   ]
  },
  {
   "cell_type": "code",
   "execution_count": 16,
   "metadata": {
    "collapsed": false
   },
   "outputs": [
    {
     "name": "stdout",
     "output_type": "stream",
     "text": [
      "----------------------------------------------------------------------------------------------------------------------------------\n",
      "Most frequent words from 1 to 100\n",
      "----------------------------------------------------------------------------------------------------------------------------------\n",
      "영화 너무 정말 이 진짜 영화. 더 잘 수 좀 그냥 그 영화를 이런 보고 왜 영화는 최고의 있는 다 본 영화가 ㅋㅋ 좋은 다시 봤는데 많이 재밌게 역시 그리고 없는 내가 참 보는 것 한 난 하지만 이렇게 완전 하는 마지막 내 평점이 연기 이거 보면 평점 꼭 또 대한 그래도 가장 볼 이건 나름 드라마 이게 ㅋㅋㅋ ㅋ 같은 뭔가 재미있게 영화의 봐도 ㅠㅠ ㅎㅎ 연기가 스토리 넘 조금 많은 다른 아 아름다운 지금 근데 . 솔직히 아주 만든 없다. 끝까지 영화.. 최고 말이 할 내내 괜찮은 안 모두 10점 않은 .. 중 스토리가 연기도 배우들의 있다. 계속\n",
      "----------------------------------------------------------------------------------------------------------------------------------\n",
      "Most frequent words from 101 to 200\n",
      "----------------------------------------------------------------------------------------------------------------------------------\n",
      "때 여운이 어떻게 모든 영화! ^^ 같다. 뭐 꽤 나는 때문에 오랜만에 작품 특히 전혀 연기는 나오는 제일 마지막에 아닌 않고 아직도 내용이 한번 않는 무슨 하고 아니라 좋고 감독의 볼만한 그런 만드는 영화... 두 영화에 약간 좋아하는 별로 딱 멋진 주는 ... 나도 액션 보면서 기억에 생각보다 영화다. 제대로 남는 재미 없고 함께 봤던 개인적으로 잔잔한 되는 없이 그렇게 이야기 굿 쓰레기 배우들 보기 재밌는 결말이 생각이 스토리도 큰 너무나 그저 뻔한 별 내용도 요즘 마음이 것이 없다 충분히 좋았다. 재밌다 느낌이 전 와 줄 상당히 내용은 건 얼마나 있고 재미는 좋다 결국 감동 엄청 하나 ㅎ 좋다. 매우\n",
      "----------------------------------------------------------------------------------------------------------------------------------\n",
      "Most frequent words from 201 to 300\n",
      "----------------------------------------------------------------------------------------------------------------------------------\n",
      "감독이 대해 가슴이 싶은 영화로 보다 위한 재미가 이해가 스토리는 한국 그러나 영화도 처음 다소 것을 된 게 못 같이 훨씬 보는내내 갈수록 이걸 듯 재밌고 이제 명작 위해 보다가 굉장히 그래서 그럭저럭 눈물이 시간이 있지만 마음에 감독 영화입니다. 어떤 영화, 연기를 ! 이영화 걍 사람이 보니 시간 감동적인 ㅋㅋㅋㅋ 영화다 생각을 보여주는 지루한 우리 재미있는 장면이 봤다. 간만에 진정한 극장에서 인생 못한 영화라고 비해 감동을 절대 당시 사랑을 새로운 보게 재미도 ㅡㅡ 훌륭한 ㅠ 주인공 코미디 인간의 봤습니다. 기억이 기대 사람들이 영화중 차라리 나온 따뜻한 배우 거 진심 재밌음 아니고 더욱 느낌 있어서 나의 작품. 것은 내용 그런지 생각하게\n",
      "----------------------------------------------------------------------------------------------------------------------------------\n",
      "Most frequent words from 301 to 400\n",
      "----------------------------------------------------------------------------------------------------------------------------------\n",
      "저 될 있다 바로 나 짱 싶다. 감동이 밖에 알고 ~ 봐서 걸 것도 최악의 그나마 전개가 오늘 아니다. 대박 정도로 항상 특유의 재밌어요 아쉬운 가슴 , 오히려 ㅜㅜ 일본 다들 장면 아무리 그대로 유쾌한 맘에 아직 재밌다. 도대체 사랑 독특한 거의 나와서 이야기를 장면은 우리나라 볼만함 누가 화려한 봤다 다시봐도 가볍게 사람은 그의 연출 아쉽다. 지루하고 1점 삶을 좋았다 스릴러 다만 저는 모습이 같다 주인공이 안되는 매력적인 좋은데 사람 해서 이영화를 전체적으로 점점 드라마. 뭘 영화관에서 모르고 부분이 대단한 중간에 제가 살짝 일단 여자 시리즈 우연히 의외로 긴장감 한다. 완벽한 마음을 그들의 연출이 감동도 아까운 평점은 느낄 모습을 최고다\n",
      "----------------------------------------------------------------------------------------------------------------------------------\n",
      "Most frequent words from 401 to 500\n",
      "----------------------------------------------------------------------------------------------------------------------------------\n",
      "여전히 원작을 배우들이 봤지만 액션은 좋아요 처음부터 나쁘지 통해 평점을 이정도면 보지 이야기가 갑자기 평범한 않다. 말 매력이 엄청난 않는다. 제발 good 어릴때 준 아니지만 주고 듯한 사랑이 영화~ 사람들은 재미있고 왠지 하나도 아이들이 확실히 또한 슬픈 반전 반전이 영화라 가지고 해도 지금도 듯. 보여준 아니 신선한 자체가 액션이 전형적인 너무너무 몰입도 어설픈 영화인데 연기력 주인공의 지금봐도 영화에서 느끼게 재미를 영화였다. 느낌. 봤어요 그런데 이야기. 깊은 지루하지 최고! 몇 너무나도 했는데 물론 음악이 아깝다 언제나 자신의 나를 비슷한 어렸을때 그게 없지만 제 알 순수한 생각 원래 저런 귀여운 이영화는 !! 사람들 하게 하지 느껴지는 돈 영화!! 사실 있을 부족한 했지만\n"
     ]
    }
   ],
   "source": [
    "for i in range(0,500,100):\n",
    "    print(\"-\"*130)\n",
    "    print(\"Most frequent words from {} to {}\".format(i+1, i+100))\n",
    "    print(\"-\"*130)\n",
    "    print(\" \".join([word for word, _ in count.most_common(1000)[i:i+100]]))"
   ]
  },
  {
   "cell_type": "markdown",
   "metadata": {},
   "source": [
    "### Good ( Rate 10 ) word distribution"
   ]
  },
  {
   "cell_type": "code",
   "execution_count": 17,
   "metadata": {
    "collapsed": false
   },
   "outputs": [],
   "source": [
    "good_count = Counter([split for split_list in review[review.rating==10].review.apply(lambda text : text.split()) for split in split_list])"
   ]
  },
  {
   "cell_type": "code",
   "execution_count": 18,
   "metadata": {
    "collapsed": false
   },
   "outputs": [
    {
     "data": {
      "image/png": "[encoded data removed]",
      "text/plain": [
       "<matplotlib.figure.Figure at 0x7fda262aff50>"
      ]
     },
     "metadata": {},
     "output_type": "display_data"
    }
   ],
   "source": [
    "fig, axes = plt.subplots(1, 3, sharey=False, figsize = (15,3))\n",
    "\n",
    "num_words = [100, 1000, 10000]\n",
    "for ax, num_word in zip(axes, num_words):\n",
    "    ax.plot([i for i in range(num_word)], [right/len(count) * 100 for _, right in good_count.most_common(num_word)])\n",
    "    ax.set_title('Index to {}'.format(num_word))"
   ]
  },
  {
   "cell_type": "code",
   "execution_count": 19,
   "metadata": {
    "collapsed": false
   },
   "outputs": [
    {
     "data": {
      "image/png": "[encoded data removed]",
      "text/plain": [
       "<matplotlib.figure.Figure at 0x7fda0ca813d0>"
      ]
     },
     "metadata": {},
     "output_type": "display_data"
    }
   ],
   "source": [
    "fig, axes = plt.subplots(1, 3, sharey=False, figsize = (15,3))\n",
    "\n",
    "num_words = [100, 1000, 10000]\n",
    "before = 0 \n",
    "\n",
    "for ax, num_word in zip(axes, num_words):\n",
    "    ax.plot([i for i in range(before, num_word)], [right/len(count) * 100 for _, right in good_count.most_common(num_word)][before:num_word])\n",
    "    ax.set_title('Frequency(%) index from {} to {}'.format(before, num_word))\n",
    "    before = num_word"
   ]
  },
  {
   "cell_type": "code",
   "execution_count": 20,
   "metadata": {
    "collapsed": false,
    "scrolled": true
   },
   "outputs": [
    {
     "name": "stdout",
     "output_type": "stream",
     "text": [
      "----------------------------------------------------------------------------------------------------------------------------------\n",
      "Most frequent words in GOOD from 1 to 100\n",
      "----------------------------------------------------------------------------------------------------------------------------------\n",
      "정말 영화 너무 진짜 이 최고의 수 잘 영화. 더 보고 영화를 본 이런 다시 그 ㅋㅋ 재밌게 왜 있는 좋은 영화가 완전 꼭 봤는데 역시 다 영화는 내 내가 평점이 그냥 난 그리고 또 드라마 이거 많이 이렇게 연기 평점 참 최고 가장 ㅠㅠ 봐도 보는 좀 것 10점 한 마지막 ㅎㅎ 없는 넘 하는 말이 재미있게 ㅋㅋㅋ 아름다운 ㅋ 보면 볼 지금 많은 아 여운이 ^^ 대한 오랜만에 이게 영화! 아직도 중 아주 이건 모두 . 굿 연기가 같은 다른 연기도 영화의 때 내내 영화.. 모든 계속 특히 제일 명작 할 한번 멋진 감동 하지만 좋고 .. 가슴이\n",
      "----------------------------------------------------------------------------------------------------------------------------------\n",
      "Most frequent words in GOOD from 101 to 200\n",
      "----------------------------------------------------------------------------------------------------------------------------------\n",
      "그래도 재밌다 나는 눈물이 마음이 만든 봤던 좋아하는 재밌는 마지막에 남는 와 함께 보면서 재밌고 끝까지 주는 나도 감동적인 스토리 영화다. 근데 짱 영화입니다. 배우들의 나름 인생 어떻게 기억에 요즘 솔직히 개인적으로 영화... ㅎ 작품 전 만드는 대박 ! 좋다 엄청 너무나 싶은 안 않은 괜찮은 않는 아니라 나오는 재밌어요 간만에 되는 다시봐도 얼마나 없다. 이영화 생각이 최고다 재밌음 그런 ... 뭔가 같다. 있다. 않고 영화다 잔잔한 오늘 진정한 우리 처음 영화에 재미있는 두 하고 영화중 ㅠ 재미 같이 감동을 보게 스토리도 봤습니다. 아닌 때문에 된 대해 나의 마음에 것을 ㅋㅋㅋㅋ 한국 내용도 배우들 제대로 하나 액션 매우 보는내내 있고\n",
      "----------------------------------------------------------------------------------------------------------------------------------\n",
      "Most frequent words in GOOD from 201 to 300\n",
      "----------------------------------------------------------------------------------------------------------------------------------\n",
      "가슴 전혀 생각을 꽤 감동이 줄 ㅜㅜ 없이 최고! 것이 좋아요 보기 좋다. 연기는 영화도 제가 생각하게 따뜻한 조금 생각보다 사랑을 우연히 어떤 영화, 굉장히 드라마. 진심 극장에서 감독의 훌륭한 나 기억이 너무너무 ~ 훨씬 큰 더욱 완벽한 영화로 이영화를 저는 사람들이 보니 지금도 위해 이제 충분히 스토리가 사람이 다들 재밌다. 좋았다. 바로 연기를 이야기 이걸 봤다. 새로운 항상 재미있고 배우 지금봐도 기대 보여주는 딱 어릴때 내용이 있어서 저 인간의 감동적이고 그렇게 대단한 없다 어렸을때 !! 영화!! 절대 무슨 뭐 보다 눈물 위한 이해가 영화라고 마음을 봤어요 모르고 상당히 느낌이 당시 게 정도로 보세요 못 우리나라 사랑 영화관에서 별 그래서\n"
     ]
    }
   ],
   "source": [
    "for i in range(0,300,100):\n",
    "    print(\"-\"*130)\n",
    "    print(\"Most frequent words in GOOD from {} to {}\".format(i+1, i+100))\n",
    "    print(\"-\"*130)\n",
    "    print(\" \".join([word for word, _ in good_count.most_common(1000)[i:i+100]]))"
   ]
  },
  {
   "cell_type": "markdown",
   "metadata": {},
   "source": [
    "### Bad ( Rate 1 ) word distribution"
   ]
  },
  {
   "cell_type": "code",
   "execution_count": 21,
   "metadata": {
    "collapsed": false
   },
   "outputs": [],
   "source": [
    "bad_count = Counter([split for split_list in review[review.rating==1].review.apply(lambda text : text.split()) for split in split_list])"
   ]
  },
  {
   "cell_type": "code",
   "execution_count": 22,
   "metadata": {
    "collapsed": false,
    "scrolled": false
   },
   "outputs": [
    {
     "data": {
      "image/png": "[encoded data removed]",
      "text/plain": [
       "<matplotlib.figure.Figure at 0x7fda06bfba90>"
      ]
     },
     "metadata": {},
     "output_type": "display_data"
    }
   ],
   "source": [
    "fig, axes = plt.subplots(1, 3, sharey=False, figsize = (15,3))\n",
    "\n",
    "num_words = [100, 1000, 10000]\n",
    "for ax, num_word in zip(axes, num_words):\n",
    "    ax.plot([i for i in range(num_word)], [right/len(count) * 100 for _, right in bad_count.most_common(num_word)])\n",
    "    ax.set_title('Index to {}'.format(num_word))"
   ]
  },
  {
   "cell_type": "code",
   "execution_count": 23,
   "metadata": {
    "collapsed": false
   },
   "outputs": [
    {
     "data": {
      "image/png": "[encoded data removed]",
      "text/plain": [
       "<matplotlib.figure.Figure at 0x7fda0c74b810>"
      ]
     },
     "metadata": {},
     "output_type": "display_data"
    }
   ],
   "source": [
    "fig, axes = plt.subplots(1, 3, sharey=False, figsize = (15,3))\n",
    "\n",
    "num_words = [100, 1000, 10000]\n",
    "before = 0 \n",
    "\n",
    "for ax, num_word in zip(axes, num_words):\n",
    "    ax.plot([i for i in range(before, num_word)], [right/len(count) * 100 for _, right in bad_count.most_common(num_word)][before:num_word])\n",
    "    ax.set_title('Frequency(%) index from {} to {}'.format(before, num_word))\n",
    "    before = num_word"
   ]
  },
  {
   "cell_type": "code",
   "execution_count": 24,
   "metadata": {
    "collapsed": false,
    "scrolled": false
   },
   "outputs": [
    {
     "name": "stdout",
     "output_type": "stream",
     "text": [
      "----------------------------------------------------------------------------------------------------------------------------------\n",
      "Most frequent words in BAD from 1 to 100\n",
      "----------------------------------------------------------------------------------------------------------------------------------\n",
      "영화 진짜 너무 정말 이 왜 그냥 이런 쓰레기 이건 다 영화. 평점 이게 영화는 영화를 더 내가 이거 영화가 좀 없는 최악의 이렇게 보고 ㅋㅋ 완전 무슨 그 본 내 아 평점이 없고 ㅡㅡ 1점도 봤는데 아깝다 보는 수 뭐 아까운 이걸 ㅋㅋㅋ 1점 보다가 안 차라리 참 만든 별 끝까지 . 솔직히 스토리 드라마 하는 그리고 연기 잘 도대체 보면 같은 한 시간 난 감독 시간이 어떻게 재미 없다. 감독이 ㅋ .. 영화라고 전혀 ... 진심 많이 없다 별로 또 재미도 걍 아깝다. 돈 개 있는 영화에 내내 하고 아니고 보다 절대 지루하고 것 내용도 내용이 아무리 나오는\n",
      "----------------------------------------------------------------------------------------------------------------------------------\n",
      "Most frequent words in BAD from 101 to 200\n",
      "----------------------------------------------------------------------------------------------------------------------------------\n",
      "할 하나도 좋은 재미없다 볼 역시 제대로 제발 이딴 최악 아니라 아주 때문에 ㅠㅠ 가장 스토리가 이제 안되는 말이 영화.. 이해가 스토리도 와 다시 제일 아닌 대체 딱 영화의 더럽게 지금 하나 쓰레기영화 감독의 ㅉㅉ 못 ㅋㅋㅋㅋ 보는내내 대한 뭘 뭔 영화도 존나 보기 보지 만드는 계속 않고 뭔가 중 다른 재미가 전기세가 이영화 영화... 얼마나 줄 그렇게 처음 보면서 배우들 나는 내용 연기도 재미없음 근데 영화로 뻔한 지루한 하지만 말도 이것도 재미없는 10점 게 최고의 중간에 주고 아니 돈주고 봐도 사람 나도 것도 ? 극장에서 마지막 결국 OO 평점에 도저히 없음 tv 꼭 평점을 감동도 노잼 이런걸 한마디로 못한\n",
      "----------------------------------------------------------------------------------------------------------------------------------\n",
      "Most frequent words in BAD from 201 to 300\n",
      "----------------------------------------------------------------------------------------------------------------------------------\n",
      "넘 주인공 3류 일본 영화관에서 아까움 사람들 사람이 갑자기 한국 없이 위해 그래도 내용은 연기가 않은 감독은 자체가 않는 0점은 누가 건 요즘 재미없고 거 뭐야 모두 별점 해서 0점 그저 어설픈 영화다 아니다. 돈이 나온 없어서 뭐가 작품 영화다. 나 여자 갈수록 모든 막장 같이 그나마 유치하고 그만 듯 수준 저 엄청 그래서 원작을 OOO 억지로 연기는 평점은 연출 재미없다. 위한 마지막에 인생 영화중 그런 바로 걸 아직도 졸작 아니다 배우들이 OOO기 밖에 때 반개도 연기를 어디서 싶은 네이버 한번 처음으로 우리나라 ㅅㅂ ㅎㅎ 삼류 사람들이 훨씬 준 생각이 특히 해도 짜증나는 가지고 나와서 주는 배우 ㅜㅜ 이야기 보는데\n"
     ]
    }
   ],
   "source": [
    "for i in range(0,300,100):\n",
    "    print(\"-\"*130)\n",
    "    print(\"Most frequent words in BAD from {} to {}\".format(i+1, i+100))\n",
    "    print(\"-\"*130)\n",
    "    print(\" \".join([word for word, _ in bad_count.most_common(1000)[i:i+100]]))"
   ]
  },
  {
   "cell_type": "code",
   "execution_count": 25,
   "metadata": {
    "collapsed": true
   },
   "outputs": [],
   "source": [
    "good_words = set([word for word, _ in good_count.most_common(500)])\n",
    "bad_words = set([word for word, _ in bad_count.most_common(500)])"
   ]
  },
  {
   "cell_type": "code",
   "execution_count": 26,
   "metadata": {
    "collapsed": false,
    "scrolled": false
   },
   "outputs": [
    {
     "name": "stdout",
     "output_type": "stream",
     "text": [
      "----------------------------------------------------------------------------------------------------------------------------------\n",
      "GOOD - BAD\n",
      "----------------------------------------------------------------------------------------------------------------------------------\n",
      "다시봐도 !! 보고싶은 좋고 아름다운 몇 좋다 따뜻해지는 슬픈 몇번을 최고!! 진정한 있게 않을 감동과 제 지금도 아름답고 재밌네요 사랑하는 여운이 봤습니다 언제나 앞으로 봐서 아깝지 약간 필요 우리가 몰입도 같아요 최고다 수작 우연히 good 가슴 모르고 마음이 반전 더욱 모습이 두 음악이 맘에 티비에서 해준 모습을 새로운 강추 영화였다. 가슴이 장면은 짱 연기에 대해 해주는 지금까지 드라마. 마음을 엄청난 알게 있다 그런지 마음 하게 봐야할 번 감동이 재밌는 좋네요 나의 재밌어요 남는 저는 사랑 눈물을 영화인데 유쾌한 날 ^^ 다시한번 통해 있었던 괜찮은 굉장히 그의 영화네요 느껴지는 나를 좋아요 영화입니다 봤어요 감동을 남을 이제야 항상 생각을 나에게 나왔으면 재미있어요 ~ 너무너무 있고 함께 슬프고 음악도 눈물 멋진 느끼게 이제서야 마음에 최고. 내인생 충분히 긴장감 어릴적 걸작 최고! 재밌다 추억의 생각보다 감동적이고 훌륭한 잊혀지지 최고다. 아직 감동적인 아이들이 대박 눈물이 영화입니다. 있어서 너무나 ㅎㅎㅎ 추천 시리즈 지루하지 생각하게 장면이 잔잔한 드라마를 예전에 이정도면 인생의 어렸을때 좋았고 지난 느낄 명작. 보세요 꿀잼 볼때마다 펑펑 이런게 사랑스러운 애니메이션 무엇보다 보게 생각 재밌음 재미있는 조금 눈을 좋다. 꽤 대단한 또한 매력적인 보여준 재미있다 필요없는 그들의 오랜만에 영화였습니다. 인생을 사랑이 것은 좋았다 재미있고 기대 간만에 너무나도 지금봐도 잘만든 작품. 따뜻한 ! 있지만 음악 좋아 좋았다. 좋음 어릴때 사랑을 순수한 느낌이 저도 탄탄한 영화!! 깊은 여전히 완벽한 벌써 재밌는데 영화~ 봐야 기억이 ㅎ 명작 영화라 재밌다. 인간의 재밌고 삶을 감동 봤습니다. 같다 볼수 굳 낮아서 최고 볼만한 삶의 귀엽고 현실을 재미있게 한다. 굿\n"
     ]
    }
   ],
   "source": [
    "print(\"-\"*130)\n",
    "print(\"GOOD - BAD\")\n",
    "print(\"-\"*130)\n",
    "print(\" \".join(good_words.difference(bad_words)))"
   ]
  },
  {
   "cell_type": "code",
   "execution_count": 27,
   "metadata": {
    "collapsed": false
   },
   "outputs": [
    {
     "name": "stdout",
     "output_type": "stream",
     "text": [
      "----------------------------------------------------------------------------------------------------------------------------------\n",
      "BAD - GOOD\n",
      "----------------------------------------------------------------------------------------------------------------------------------\n",
      "아깝다!!! 지루하다 쓰레기. 지루하고 어디서 스토리에 아님 공포영화 작가가 억지 이런영화 뻔한 그만 나오고 tv 감독은 이해 이유가 못하는 돈이 못한 평점에 유치하고 재미없음 액션도 만들어 없고, 반개도 감동도 자꾸 억지로 주인공이 대체 아무리 막 참고 B급 최악 보지마세요 정도 했는데 못하고 것도 만들어도 갈수록 OO 전형적인 재미는 없어 -_- 최악의 막장 남자 전개 삼류 도저히 작가 영화보다 최악이다 중간에 하나도 이딴 하면 재미없어서 만들 졸라 재미없는 굳이 뭐야 질질 배우가 짜증나는 해도 평점보고 없음 평점은 어설픈 왠만하면 애들 이미 더빙 보는데 수준이 뭔 손발이 최악. 말도 시나리오 진부한 비해 쓰레기 지루해서 왜이렇게 ? 가지고 아무것도 0점은 존나 밑에 ;; 더럽게 이런거 점점 ㅅㅂ 갑자기 OOO기 믿고 ㅡ 혼자 쓰레기영화 알바 없네 재미없다 0점이 졸작 점수 안되는 여자가 영 발로 짜증 0점 돈주고 짜증나서 만들지 아깝다 지루한 기분 재미없고 내용은 전부 듯. 뭐냐 어색한 한국영화 아깝다. 없고 재미도 개연성 재미없네 아까운 이딴걸 발연기 느낌 1점 아까움 허접한 이상한 수준 알바들 1점도 아까워 하지 어느 여자 보는게 뭘 아놔 지루해 기대하고 별점 어이가 그게 영화중에 전개가 .... 말고 한국영화는 지루함 없음. 아니면 재미없다. 이젠 이런걸 ㅡㅡ 3류 더러운 주기도 왜이리 시간 모르겠다. 쓰레기같은 아오 그나마 개 이것도 이상 80년대 안되고 재미없어 하는데 죄다 - 없어서 스토리는 가서 실망 미친 드럽게 자체가 전기세가 결말 여기 돈 저질 유치한 진심으로 네이버 ㅉㅉ 차라리 노잼 시간낭비 한마디로 원작을 괜히 생각으로 원작 어이없는 아니다 모르겠다 아니고 뭐가 도대체 살다살다 시간을 제목 배우들이 OOO\n"
     ]
    }
   ],
   "source": [
    "print(\"-\"*130)\n",
    "print(\"BAD - GOOD\")\n",
    "print(\"-\"*130)\n",
    "print(\" \".join(bad_words.difference(good_words)))"
   ]
  },
  {
   "cell_type": "code",
   "execution_count": 28,
   "metadata": {
    "collapsed": false,
    "scrolled": true
   },
   "outputs": [
    {
     "name": "stdout",
     "output_type": "stream",
     "text": [
      "----------------------------------------------------------------------------------------------------------------------------------\n",
      "BAD AND GOOD\n",
      "----------------------------------------------------------------------------------------------------------------------------------\n",
      "저 것 영화관에서 전 아니 거의 아닌 나도 또 역시 스토리도 사람들이 그런 않은 된 보지 줄 싶은 중에 배우 수 알고 근데 제일 보는 , 너무 한 사람들은 아주 .. 대한 무슨 결말이 어떤 참 못 싶다. ... 영화도 이해가 감독의 할 같은 ㅜㅜ 내용 바로 연출 그래서 ㅋㅋㅋㅋ 주인공 이야기 드라마가 전혀 영화에 있다. 없다. 왜 이렇게 특히 연기도 감독이 영화는 듯 얼마나 큰 아니라 건 일단 걸 절대 한국 우리나라 같이 내 좀 보니 처음 배우들 요즘 봤다 게 중 하나 영화 빨리 그래도 와 나 많이 난 하는 보면 진심 코미디 없이 평점을 거 많은 꼭 다시 이런 딱 이영화를 제대로 좋아하는 인생 ㅋ 당시 드라마는 계속 말이 별 될 ㅋㅋㅋ 지금 보여주는 물론 있는 사람은 영화의 연기를 영화가 엄청 다 그대로 하고 재밌게 영화라고 사람이 생각이 극장에서 재미가 본 10점 결국 볼 뭔가 이영화 준 그렇게 다른 평점 누가 그냥 처음부터 별로 정도로 주고 넘 모든 . 마지막 만든 이걸 내용이 이건 나와서 이거 그리고 나온 없다 되는 봤던 연기는 매우 보다 솔직히 사람 보고 이제 오히려 없는 아 때문에 처음으로 안 제발 스토리 만드는 뭐 위한 ㅎㅎ 더 제가 이영화는 어떻게 나는 상당히 ㅠ 주는 영화다 ㅋㅋ 영화중 진짜 내가 드라마 해서 이 위해 기억에 원래 사람들 영화.. 싶다 평점이 연기력 최고의 하지만 ㅠㅠ 일본 것을 수가 아니다. 훨씬 마지막에 내용도 잘 봤는데 한번 같다. 좋은 영화... 가장 영화. 내내 보다가 정말 무조건 봤다. 영화다. 액션 밖에 않고 다들 우리 것이 개인적으로 아직도 봐도 시간이 않는 완전 봤지만 걍 이영화가 때 배우들의 말 이게 연기가 나름 작품 장면 영화로 스토리가 영화를 연기 보면서 그저 영화! 끝까지 보기 영화, 저런 나오는 보는내내 오늘 감독 그 모두 재미\n"
     ]
    }
   ],
   "source": [
    "print(\"-\"*130)\n",
    "print(\"BAD AND GOOD\")\n",
    "print(\"-\"*130)\n",
    "print(\" \".join(bad_words.intersection(good_words)))"
   ]
  },
  {
   "cell_type": "markdown",
   "metadata": {},
   "source": [
    "## Preparing data"
   ]
  },
  {
   "cell_type": "code",
   "execution_count": 3,
   "metadata": {
    "collapsed": false,
    "scrolled": true
   },
   "outputs": [
    {
     "data": {
      "text/html": [
       "<div>\n",
       "<style>\n",
       "    .dataframe thead tr:only-child th {\n",
       "        text-align: right;\n",
       "    }\n",
       "\n",
       "    .dataframe thead th {\n",
       "        text-align: left;\n",
       "    }\n",
       "\n",
       "    .dataframe tbody tr th {\n",
       "        vertical-align: top;\n",
       "    }\n",
       "</style>\n",
       "<table border=\"1\" class=\"dataframe\">\n",
       "  <thead>\n",
       "    <tr style=\"text-align: right;\">\n",
       "      <th></th>\n",
       "      <th>review</th>\n",
       "      <th>length</th>\n",
       "      <th>rating</th>\n",
       "    </tr>\n",
       "  </thead>\n",
       "  <tbody>\n",
       "    <tr>\n",
       "      <th>0</th>\n",
       "      <td>전체관람가는 아닌것 같아요</td>\n",
       "      <td>3</td>\n",
       "      <td>10</td>\n",
       "    </tr>\n",
       "    <tr>\n",
       "      <th>1</th>\n",
       "      <td>디렉터스컷으로봐서 거의 3시간짜리인데 참 흡인력있다</td>\n",
       "      <td>5</td>\n",
       "      <td>10</td>\n",
       "    </tr>\n",
       "    <tr>\n",
       "      <th>2</th>\n",
       "      <td>태어나 처음으로 가슴아리는 영화였다.  20년이상 지났지만.. 생각하면  또 가슴이...</td>\n",
       "      <td>17</td>\n",
       "      <td>10</td>\n",
       "    </tr>\n",
       "    <tr>\n",
       "      <th>3</th>\n",
       "      <td>어린시절 고딩때 봤던 때랑 또 결혼하고 나서 봤을때의 느낌은 확실히 다르네요. 뭔가...</td>\n",
       "      <td>29</td>\n",
       "      <td>10</td>\n",
       "    </tr>\n",
       "    <tr>\n",
       "      <th>4</th>\n",
       "      <td>토토에게 넓은 세상을 보여주고픈 알프레도.. 그가 토토를 위해 정을 떼려고 했던 장...</td>\n",
       "      <td>26</td>\n",
       "      <td>10</td>\n",
       "    </tr>\n",
       "  </tbody>\n",
       "</table>\n",
       "</div>"
      ],
      "text/plain": [
       "                                              review  length  rating\n",
       "0                                     전체관람가는 아닌것 같아요       3      10\n",
       "1                       디렉터스컷으로봐서 거의 3시간짜리인데 참 흡인력있다       5      10\n",
       "2  태어나 처음으로 가슴아리는 영화였다.  20년이상 지났지만.. 생각하면  또 가슴이...      17      10\n",
       "3  어린시절 고딩때 봤던 때랑 또 결혼하고 나서 봤을때의 느낌은 확실히 다르네요. 뭔가...      29      10\n",
       "4  토토에게 넓은 세상을 보여주고픈 알프레도.. 그가 토토를 위해 정을 떼려고 했던 장...      26      10"
      ]
     },
     "execution_count": 3,
     "metadata": {},
     "output_type": "execute_result"
    }
   ],
   "source": [
    "data = load_original_data().xs(['review', 'rating'], axis = 1)\n",
    "data.dropna(inplace =True)\n",
    "data['length'] = data.review.apply(lambda text : len(text.split()))\n",
    "data = data[['review', 'length', 'rating']]\n",
    "data.head()"
   ]
  },
  {
   "cell_type": "code",
   "execution_count": 26,
   "metadata": {
    "collapsed": false
   },
   "outputs": [
    {
     "data": {
      "text/plain": [
       "<matplotlib.axes._subplots.AxesSubplot at 0x7f1914522ad0>"
      ]
     },
     "execution_count": 26,
     "metadata": {},
     "output_type": "execute_result"
    },
    {
     "data": {
      "image/png": "[encoded data removed]",
      "text/plain": [
       "<matplotlib.figure.Figure at 0x7f1926d3e0d0>"
      ]
     },
     "metadata": {},
     "output_type": "display_data"
    }
   ],
   "source": [
    "sns.distplot(data.length, kde=False)"
   ]
  },
  {
   "cell_type": "code",
   "execution_count": 23,
   "metadata": {
    "collapsed": false
   },
   "outputs": [
    {
     "name": "stdout",
     "output_type": "stream",
     "text": [
      "Vocab Size : 1177301\n"
     ]
    }
   ],
   "source": [
    "count = Counter([split for split_list in data.review.apply(lambda text : text.split()) for split in split_list])\n",
    "print(\"Vocab Size : {}\".format(len(count)))"
   ]
  },
  {
   "cell_type": "markdown",
   "metadata": {},
   "source": [
    "### Konlpy Phrases Parsing"
   ]
  },
  {
   "cell_type": "markdown",
   "metadata": {},
   "source": [
    "<code> def parsing(text):\n",
    "    Parser = Twitter()\n",
    "    return Parser.morphs(text)\n",
    "\n",
    "with codecs.open('filename', 'w', encoding='utf-8') as f:\n",
    "    for line in tqdm.tqdm(data.review):\n",
    "        f.write( \" \".join(parsing(line)) + '\\n') </code>"
   ]
  },
  {
   "cell_type": "code",
   "execution_count": 19,
   "metadata": {
    "collapsed": false,
    "scrolled": true
   },
   "outputs": [
    {
     "data": {
      "text/html": [
       "<div>\n",
       "<style>\n",
       "    .dataframe thead tr:only-child th {\n",
       "        text-align: right;\n",
       "    }\n",
       "\n",
       "    .dataframe thead th {\n",
       "        text-align: left;\n",
       "    }\n",
       "\n",
       "    .dataframe tbody tr th {\n",
       "        vertical-align: top;\n",
       "    }\n",
       "</style>\n",
       "<table border=\"1\" class=\"dataframe\">\n",
       "  <thead>\n",
       "    <tr style=\"text-align: right;\">\n",
       "      <th></th>\n",
       "      <th>review</th>\n",
       "      <th>len</th>\n",
       "      <th>rating</th>\n",
       "    </tr>\n",
       "  </thead>\n",
       "  <tbody>\n",
       "    <tr>\n",
       "      <th>0</th>\n",
       "      <td>전체관람가 는 아닌 것 같아 요</td>\n",
       "      <td>6</td>\n",
       "      <td>10</td>\n",
       "    </tr>\n",
       "    <tr>\n",
       "      <th>1</th>\n",
       "      <td>디렉터스컷 으로 봐 서 거의 3 시간 짜 리 인데 참 흡인 력 있다</td>\n",
       "      <td>14</td>\n",
       "      <td>10</td>\n",
       "    </tr>\n",
       "    <tr>\n",
       "      <th>2</th>\n",
       "      <td>태어나 처음 으로 가슴 아리 는 영화 였 다 . 20 년 이상 지났 지만 .. 생각...</td>\n",
       "      <td>34</td>\n",
       "      <td>10</td>\n",
       "    </tr>\n",
       "    <tr>\n",
       "      <th>3</th>\n",
       "      <td>어린시절 고딩 때 봤 던 때 랑 또 결혼 하고 나서 봤 을 때 의 느낌 은 확실히 ...</td>\n",
       "      <td>65</td>\n",
       "      <td>10</td>\n",
       "    </tr>\n",
       "    <tr>\n",
       "      <th>4</th>\n",
       "      <td>토토 에게 넓은 세상 을 보여 주 고픈 알 프레 도 .. 그 가 토토 를 위해 정 ...</td>\n",
       "      <td>53</td>\n",
       "      <td>10</td>\n",
       "    </tr>\n",
       "  </tbody>\n",
       "</table>\n",
       "</div>"
      ],
      "text/plain": [
       "                                              review  len  rating\n",
       "0                                  전체관람가 는 아닌 것 같아 요    6      10\n",
       "1              디렉터스컷 으로 봐 서 거의 3 시간 짜 리 인데 참 흡인 력 있다   14      10\n",
       "2  태어나 처음 으로 가슴 아리 는 영화 였 다 . 20 년 이상 지났 지만 .. 생각...   34      10\n",
       "3  어린시절 고딩 때 봤 던 때 랑 또 결혼 하고 나서 봤 을 때 의 느낌 은 확실히 ...   65      10\n",
       "4  토토 에게 넓은 세상 을 보여 주 고픈 알 프레 도 .. 그 가 토토 를 위해 정 ...   53      10"
      ]
     },
     "execution_count": 19,
     "metadata": {},
     "output_type": "execute_result"
    }
   ],
   "source": [
    "konlpy_data = load_konlpy_phrase_review_inner()\n",
    "df = pd.DataFrame({'review': konlpy_data[:-1] , 'rating' : data.rating} )\n",
    "df['length'] = df.review.apply(lambda text : len(text.split()))\n",
    "df = df.xs(['review', 'len', 'rating'], axis = 1)\n",
    "df.head()"
   ]
  },
  {
   "cell_type": "code",
   "execution_count": 22,
   "metadata": {
    "collapsed": false,
    "scrolled": false
   },
   "outputs": [
    {
     "data": {
      "text/plain": [
       "<matplotlib.axes._subplots.AxesSubplot at 0x7f192ac126d0>"
      ]
     },
     "execution_count": 22,
     "metadata": {},
     "output_type": "execute_result"
    },
    {
     "data": {
      "image/png": "[encoded data removed]",
      "text/plain": [
       "<matplotlib.figure.Figure at 0x7f193a6e8a50>"
      ]
     },
     "metadata": {},
     "output_type": "display_data"
    }
   ],
   "source": [
    "sns.distplot(df.length)"
   ]
  },
  {
   "cell_type": "code",
   "execution_count": 24,
   "metadata": {
    "collapsed": false,
    "scrolled": true
   },
   "outputs": [
    {
     "name": "stdout",
     "output_type": "stream",
     "text": [
      "Vocab Size : 120865\n"
     ]
    }
   ],
   "source": [
    "count = Counter([split for split_list in df.review.apply(lambda text : text.split()) for split in split_list])\n",
    "print(\"Vocab Size : {}\".format(len(count)))"
   ]
  },
  {
   "cell_type": "markdown",
   "metadata": {},
   "source": [
    "## Train_Test_Split and Save data"
   ]
  },
  {
   "cell_type": "code",
   "execution_count": 1,
   "metadata": {
    "collapsed": true
   },
   "outputs": [],
   "source": [
    "import numpy as np\n",
    "import codecs \n",
    "import tqdm\n",
    "import pickle\n",
    "from collections import Counter\n",
    "from load_data import load_konlpy_phrase_review\n",
    "from sklearn.model_selection import train_test_split\n",
    "\n",
    "preprocessing_vocab_size = 2**14 - 2 # for <UNK> & <PAD>"
   ]
  },
  {
   "cell_type": "code",
   "execution_count": 2,
   "metadata": {
    "collapsed": false,
    "scrolled": true
   },
   "outputs": [
    {
     "data": {
      "text/html": [
       "<div>\n",
       "<style>\n",
       "    .dataframe thead tr:only-child th {\n",
       "        text-align: right;\n",
       "    }\n",
       "\n",
       "    .dataframe thead th {\n",
       "        text-align: left;\n",
       "    }\n",
       "\n",
       "    .dataframe tbody tr th {\n",
       "        vertical-align: top;\n",
       "    }\n",
       "</style>\n",
       "<table border=\"1\" class=\"dataframe\">\n",
       "  <thead>\n",
       "    <tr style=\"text-align: right;\">\n",
       "      <th></th>\n",
       "      <th>rating</th>\n",
       "      <th>review</th>\n",
       "    </tr>\n",
       "  </thead>\n",
       "  <tbody>\n",
       "    <tr>\n",
       "      <th>0</th>\n",
       "      <td>10</td>\n",
       "      <td>전체관람가 는 아닌 것 같아 요</td>\n",
       "    </tr>\n",
       "    <tr>\n",
       "      <th>1</th>\n",
       "      <td>10</td>\n",
       "      <td>디렉터스컷 으로 봐 서 거의 3 시간 짜 리 인데 참 흡인 력 있다</td>\n",
       "    </tr>\n",
       "    <tr>\n",
       "      <th>2</th>\n",
       "      <td>10</td>\n",
       "      <td>태어나 처음 으로 가슴 아리 는 영화 였 다 . 20 년 이상 지났 지만 .. 생각...</td>\n",
       "    </tr>\n",
       "    <tr>\n",
       "      <th>3</th>\n",
       "      <td>10</td>\n",
       "      <td>어린시절 고딩 때 봤 던 때 랑 또 결혼 하고 나서 봤 을 때 의 느낌 은 확실히 ...</td>\n",
       "    </tr>\n",
       "    <tr>\n",
       "      <th>4</th>\n",
       "      <td>10</td>\n",
       "      <td>토토 에게 넓은 세상 을 보여 주 고픈 알 프레 도 .. 그 가 토토 를 위해 정 ...</td>\n",
       "    </tr>\n",
       "  </tbody>\n",
       "</table>\n",
       "</div>"
      ],
      "text/plain": [
       "   rating                                             review\n",
       "0      10                                  전체관람가 는 아닌 것 같아 요\n",
       "1      10              디렉터스컷 으로 봐 서 거의 3 시간 짜 리 인데 참 흡인 력 있다\n",
       "2      10  태어나 처음 으로 가슴 아리 는 영화 였 다 . 20 년 이상 지났 지만 .. 생각...\n",
       "3      10  어린시절 고딩 때 봤 던 때 랑 또 결혼 하고 나서 봤 을 때 의 느낌 은 확실히 ...\n",
       "4      10  토토 에게 넓은 세상 을 보여 주 고픈 알 프레 도 .. 그 가 토토 를 위해 정 ..."
      ]
     },
     "execution_count": 2,
     "metadata": {},
     "output_type": "execute_result"
    }
   ],
   "source": [
    "data = load_konlpy_phrase_review()\n",
    "data.head()"
   ]
  },
  {
   "cell_type": "code",
   "execution_count": 3,
   "metadata": {
    "collapsed": false
   },
   "outputs": [],
   "source": [
    "count = Counter([split for split_list in data.review.apply(lambda text : text.split()) for split in split_list])\n",
    "voca_list = [word for word, _ in count.most_common(preprocessing_vocab_size)]\n",
    "\n",
    "word2int = { word : idx for idx, word in enumerate(voca_list, 2) }\n",
    "word2int[u'<PAD>'] = 0 \n",
    "word2int[u'<UKN>'] = 1\n",
    "\n",
    "int2word = { idx : word for idx, word in enumerate(voca_list, 2) }\n",
    "int2word[0] = u'<PAD>'\n",
    "int2word[1] = u'<UKN>'"
   ]
  },
  {
   "cell_type": "code",
   "execution_count": 4,
   "metadata": {
    "collapsed": false
   },
   "outputs": [
    {
     "name": "stdout",
     "output_type": "stream",
     "text": [
      "Vocab size (by Frequency): 16384\n"
     ]
    }
   ],
   "source": [
    "print(\"Vocab size (by Frequency): {}\".format(len(word2int)))"
   ]
  },
  {
   "cell_type": "code",
   "execution_count": 5,
   "metadata": {
    "collapsed": false
   },
   "outputs": [],
   "source": [
    "train, test = train_test_split(data, test_size = .2)\n",
    "train, validation = train_test_split ( train, test_size = .2)"
   ]
  },
  {
   "cell_type": "markdown",
   "metadata": {},
   "source": [
    "### Write the training / validation / test data in disk"
   ]
  },
  {
   "cell_type": "code",
   "execution_count": 7,
   "metadata": {
    "collapsed": false,
    "scrolled": false
   },
   "outputs": [
    {
     "name": "stderr",
     "output_type": "stream",
     "text": [
      "100%|██████████| 455924/455924 [07:11<00:00, 1057.20it/s]\n",
      "100%|██████████| 113982/113982 [01:47<00:00, 1056.72it/s]\n",
      "100%|██████████| 142477/142477 [02:14<00:00, 1063.13it/s]\n"
     ]
    }
   ],
   "source": [
    "with codecs.open('/media/disk1/public_milab/Udacity/Naver_hackathon/rating/review_train', 'w', encoding='utf-8') as f:\n",
    "    for line in tqdm.tqdm(train.review):\n",
    "        f.write( \" \".join([word.decode('utf-8') if word in voca_list else u'<UNK>' for word in line.split()]) + '\\n' )\n",
    "\n",
    "with codecs.open('/media/disk1/public_milab/Udacity/Naver_hackathon/rating/review_validation', 'w', encoding='utf-8') as f:\n",
    "    for line in tqdm.tqdm(validation.review):\n",
    "        f.write( \" \".join([word.decode('utf-8') if word in voca_list else u'<UNK>' for word in line.split()]) + '\\n' )\n",
    "        \n",
    "with codecs.open('/media/disk1/public_milab/Udacity/Naver_hackathon/rating/review_test', 'w', encoding='utf-8') as f:\n",
    "    for line in tqdm.tqdm(test.review):\n",
    "        f.write( \" \".join([word.decode('utf-8') if word in voca_list else u'<UNK>' for word in line.split()]) + '\\n' )\n",
    "\n",
    "\n",
    "np.save('/media/disk1/public_milab/Udacity/Naver_hackathon/rating/rating_train.npy' , train.rating)\n",
    "np.save('/media/disk1/public_milab/Udacity/Naver_hackathon/rating/rating_validation.npy' , validation.rating)\n",
    "np.save('/media/disk1/public_milab/Udacity/Naver_hackathon/rating/rating_test.npy' , test.rating)"
   ]
  },
  {
   "cell_type": "code",
   "execution_count": 8,
   "metadata": {
    "collapsed": true
   },
   "outputs": [],
   "source": [
    "with open('/media/disk1/public_milab/Udacity/Naver_hackathon/rating/word2int.pkl', 'wb') as f:\n",
    "    pickle.dump(word2int, f, pickle.HIGHEST_PROTOCOL)\n",
    "\n",
    "with open('/media/disk1/public_milab/Udacity/Naver_hackathon/rating/int2word.pkl', 'wb') as f:\n",
    "    pickle.dump(int2word, f, pickle.HIGHEST_PROTOCOL)    "
   ]
  },
  {
   "cell_type": "markdown",
   "metadata": {},
   "source": [
    "# CHECK POINT "
   ]
  },
  {
   "cell_type": "code",
   "execution_count": 1,
   "metadata": {
    "collapsed": false
   },
   "outputs": [],
   "source": [
    "from __future__ import division\n",
    "from __future__ import print_function\n",
    "\n",
    "import tensorflow as tf\n",
    "import pickle\n",
    "import numpy as np\n",
    "import pandas as pd\n",
    "import tqdm\n",
    "import os\n",
    "\n",
    "os.environ[\"CUDA_DEVICE_ORDER\"]=\"PCI_BUS_ID\"\n",
    "os.environ[\"CUDA_VISIBLE_DEVICES\"]=\"1\""
   ]
  },
  {
   "cell_type": "code",
   "execution_count": 2,
   "metadata": {
    "collapsed": false
   },
   "outputs": [],
   "source": [
    "class Hparams():\n",
    "    def __init__(self):\n",
    "        self.embed_size = 2**9 # 512\n",
    "        self.voca_size = 2**14 -2 # 16k\n",
    "        self.layer_size = 2**9 # 512\n",
    "        self.drop_rate = 0.8 \n",
    "        \n",
    "        self.batch_size = 2**8 # 256\n",
    "        self.num_stack_cell = 2\n",
    "\n",
    "class Config():\n",
    "    def __init__(self):\n",
    "\n",
    "        self.save_path = '/media/disk1/public_milab/Udacity/Naver_hackathon/rating/log/LSTM_Attention/'\n",
    "        self.log_path = self.save_path\n",
    "        self.summary_every_step = 100\n",
    "        self.save_every_step = 2000        \n",
    "        self.max_to_keep = 5\n",
    "        self.epoch = 100                \n",
    "        \n",
    "hparams = Hparams()\n",
    "config = Config()"
   ]
  },
  {
   "cell_type": "markdown",
   "metadata": {},
   "source": [
    "### Make Dataset for Training"
   ]
  },
  {
   "cell_type": "markdown",
   "metadata": {},
   "source": [
    "### TODO : Modularization"
   ]
  },
  {
   "cell_type": "markdown",
   "metadata": {},
   "source": [
    "#### Load voca"
   ]
  },
  {
   "cell_type": "code",
   "execution_count": 3,
   "metadata": {
    "collapsed": false
   },
   "outputs": [],
   "source": [
    "with open('/media/disk1/public_milab/Udacity/Naver_hackathon/rating/word2int.pkl', 'rb') as f:\n",
    "    word2int = pickle.load(f)\n",
    "with open('/media/disk1/public_milab/Udacity/Naver_hackathon/rating/int2word.pkl', 'rb') as f:\n",
    "    int2word = pickle.load(f)"
   ]
  },
  {
   "cell_type": "markdown",
   "metadata": {},
   "source": [
    "#### Load labels ( from 1 to 10 )"
   ]
  },
  {
   "cell_type": "code",
   "execution_count": 4,
   "metadata": {
    "collapsed": false
   },
   "outputs": [],
   "source": [
    "train_y =      np.load('/media/disk1/public_milab/Udacity/Naver_hackathon/rating/rating_train.npy')\n",
    "validation_y = np.load('/media/disk1/public_milab/Udacity/Naver_hackathon/rating/rating_validation.npy')\n",
    "test_y =       np.load('/media/disk1/public_milab/Udacity/Naver_hackathon/rating/rating_test.npy')"
   ]
  },
  {
   "cell_type": "markdown",
   "metadata": {},
   "source": [
    "### Load reviews & Make dataset object for Feeding"
   ]
  },
  {
   "cell_type": "markdown",
   "metadata": {},
   "source": [
    "#### Make hashTable"
   ]
  },
  {
   "cell_type": "code",
   "execution_count": 5,
   "metadata": {
    "collapsed": false
   },
   "outputs": [],
   "source": [
    "hash_key = tf.convert_to_tensor([key.decode('utf-8') for key in word2int.keys()], tf.string)\n",
    "hash_value = tf.convert_to_tensor([word2int.get(key) for key in word2int.keys()], tf.int32)\n",
    "\n",
    "table = tf.contrib.lookup.HashTable(tf.contrib.lookup.KeyValueTensorInitializer(hash_key, hash_value), 1) #defalut value 없으면? "
   ]
  },
  {
   "cell_type": "markdown",
   "metadata": {},
   "source": [
    "#### Training dataset"
   ]
  },
  {
   "cell_type": "code",
   "execution_count": 6,
   "metadata": {
    "collapsed": false,
    "scrolled": false
   },
   "outputs": [],
   "source": [
    "train_dataset = tf.data.TextLineDataset(['/media/disk1/public_milab/Udacity/Naver_hackathon/rating/review_train'])\n",
    "train_dataset = train_dataset.map(lambda string: tf.string_split([string]).values) #Sparse tensor to Dense tensor\n",
    "train_dataset = train_dataset.map(lambda words: (words, tf.size(words)))\n",
    "train_dataset = train_dataset.map(lambda words, size: (table.lookup(words), size))\n",
    "train_dataset = train_dataset.padded_batch(hparams.batch_size, (tf.TensorShape([None]),tf.TensorShape([])))\n",
    "\n",
    "train_rating = tf.data.Dataset.from_tensor_slices(train_y)\n",
    "train_rating = train_rating.batch(hparams.batch_size)\n",
    "\n",
    "train_dataset = tf.data.Dataset.zip((train_dataset, train_rating))\n",
    "train_dataset = train_dataset.map(lambda (inputs, size), labels : (inputs, labels, size) )\n",
    "train_dataset = train_dataset.repeat(config.epoch)\n",
    "\n",
    "train_data_iter  = train_dataset.make_initializable_iterator()\n",
    "train_data_init = train_data_iter.initializer\n",
    "train_inputs, train_labels, train_size = train_data_iter.get_next()"
   ]
  },
  {
   "cell_type": "markdown",
   "metadata": {},
   "source": [
    "#### Validation dataset"
   ]
  },
  {
   "cell_type": "code",
   "execution_count": 7,
   "metadata": {
    "collapsed": false
   },
   "outputs": [],
   "source": [
    "val_dataset = tf.data.TextLineDataset(['/media/disk1/public_milab/Udacity/Naver_hackathon/rating/review_validation'])\n",
    "val_dataset = val_dataset.map(lambda string: tf.string_split([string]).values) #Sparse tensor to Dense tensor\n",
    "val_dataset = val_dataset.map(lambda words: (words, tf.size(words)))\n",
    "val_dataset = val_dataset.map(lambda words, size: (table.lookup(words), size))\n",
    "val_dataset = val_dataset.padded_batch(hparams.batch_size * 10, (tf.TensorShape([None]),tf.TensorShape([])))\n",
    "\n",
    "val_rating = tf.data.Dataset.from_tensor_slices(validation_y)\n",
    "val_rating = val_rating.batch(hparams.batch_size * 10)\n",
    "val_dataset = tf.data.Dataset.zip((val_dataset, val_rating))\n",
    "val_dataset = val_dataset.map(lambda (inputs, size), labels : (inputs, labels, size) )\n",
    "val_dataset = val_dataset.repeat()\n",
    "\n",
    "val_data_iter  = val_dataset.make_initializable_iterator()\n",
    "val_data_init = val_data_iter.initializer\n",
    "val_inputs, val_labels, val_size = val_data_iter.get_next()"
   ]
  },
  {
   "cell_type": "markdown",
   "metadata": {},
   "source": [
    "### 반영할 것\n",
    "    1. imbalnced data distribution -> 10점대가 다른 점수대에 비하여 많은 수를 차지하고 있다.\n",
    "    2. Regression / Classification 어떤 방식으로 접근할 것인지\n",
    "        2.1 Classification 한다면, Label smoothing 고려 해보기\n",
    "    \n",
    "    3. Decay Learning_rate 구현하기\n",
    "    4. Session 을 이용해서 구현하기\n",
    "        "
   ]
  },
  {
   "cell_type": "markdown",
   "metadata": {},
   "source": [
    "## LSTM Encoding with Attention"
   ]
  },
  {
   "cell_type": "markdown",
   "metadata": {},
   "source": [
    "#### layers"
   ]
  },
  {
   "cell_type": "code",
   "execution_count": 8,
   "metadata": {
    "collapsed": true
   },
   "outputs": [],
   "source": [
    "## Attention mechanism\n",
    "def align(outputs, target, scope, reuse=False):\n",
    "    with tf.variable_scope(scope, reuse=reuse):\n",
    "        weight = tf.nn.softmax(tf.matmul(outputs, tf.expand_dims(target, -1)))\n",
    "        weighted_sum = tf.matmul(tf.transpose(weight, perm=[0,2,1]), outputs)        \n",
    "        align = tf.squeeze(weighted_sum, axis=1)\n",
    "        \n",
    "        return align"
   ]
  },
  {
   "cell_type": "markdown",
   "metadata": {},
   "source": [
    "#### for label smoothing ( when the loss is classfication loss ( cross entropy ) )"
   ]
  },
  {
   "cell_type": "code",
   "execution_count": 9,
   "metadata": {
    "collapsed": true
   },
   "outputs": [],
   "source": [
    "def make_table(depth, smooth = 0.1):\n",
    "    \n",
    "    table = np.diag([smooth] * (depth-1), 1) + np.diag([smooth] * (depth-1), -1)  + np.eye(depth) * (1 - 2*smooth)\n",
    "    table[0][2] = smooth\n",
    "    table[-1][-3] = smooth    \n",
    "    table = tf.convert_to_tensor(table)\n",
    "    \n",
    "    return table\n",
    "\n",
    "def label_smoother(table, ids):    \n",
    "    return tf.nn.embedding_lookup(table, ids)"
   ]
  },
  {
   "cell_type": "markdown",
   "metadata": {},
   "source": [
    "### build model"
   ]
  },
  {
   "cell_type": "code",
   "execution_count": 10,
   "metadata": {
    "collapsed": false
   },
   "outputs": [],
   "source": [
    "class LSTM_Attention(object):\n",
    "    \"\"\" Build LSTM_Attetion Model for Regression\n",
    "    Args:\n",
    "        inputs: Input tensors\n",
    "        targets: Label tensor\n",
    "        size: RNN batch length tensor for dynamic RNN  \n",
    "        hparam: Hparameter\n",
    "        config: Configuration\n",
    "        is_train: True If this model is used for training else false\n",
    "        \"\"\"\n",
    "                        \n",
    "    @property\n",
    "    def loss(self):\n",
    "        return self._loss\n",
    "    \n",
    "    @property\n",
    "    def train_op(self):\n",
    "        return self._train_op\n",
    "    \n",
    "    @property\n",
    "    def summary_op(self):\n",
    "        return self._merge\n",
    "    \n",
    "    @property\n",
    "    def epoch(self):\n",
    "        return self._epoch\n",
    "    \n",
    "    @property\n",
    "    def global_step(self):\n",
    "        return self._global_step\n",
    "    \n",
    "    def __init__(self, inputs, targets, size, hparams, config, is_train):\n",
    "        \n",
    "        self._inputs = inputs\n",
    "        self._size = size\n",
    "        self._targets = targets\n",
    "        self._hparams = hparams\n",
    "        self._config  = config\n",
    "        self._is_train = is_train\n",
    "        self._build()\n",
    "        \n",
    "    def _build(self):\n",
    "        \n",
    "        self._enc = tf.contrib.layers.embed_sequence(ids=self._inputs, vocab_size=len(word2int), embed_dim=hparams.embed_size)\n",
    "        \n",
    "        _build_rnn = lambda i : tf.contrib.rnn.LSTMCell(int(hparams.layer_size / ( i + 1 )))\n",
    "        self._cell = tf.contrib.rnn.MultiRNNCell([_build_rnn(i) for i in range(hparams.num_stack_cell)])\n",
    "        \n",
    "        outputs , state = tf.nn.dynamic_rnn(self._cell, self._enc, dtype=tf.float32, sequence_length=self._size)\n",
    "        \n",
    "        state = tf.concat([state[0][i] for i in range(len(state))], axis = -1)\n",
    "        state = tf.layers.dense(inputs=state, units= outputs.shape.as_list()[-1], activation=tf.nn.sigmoid)\n",
    "        \n",
    "        print(outputs.shape)\n",
    "        print(state.shape)\n",
    "        ## attention\n",
    "        align_ = align(outputs, state, 'align_layer')\n",
    "        state = tf.concat([align_, state], axis = -1 )\n",
    "        \n",
    "        self._output = tf.layers.dense(state, int(hparams.layer_size / 2), activation=tf.nn.sigmoid)\n",
    "        self._output = tf.layers.dropout(self._output, rate = hparams.drop_rate, training=self._is_train)\n",
    "        self._output = tf.layers.dense(self._output, int(hparams.layer_size / 4), activation=tf.nn.sigmoid)\n",
    "        self._output = tf.layers.dense(self._output, 1 , activation= None)\n",
    "        self._output = tf.squeeze(self._output)\n",
    "        \n",
    "        self._acc = tf.reduce_mean(tf.cast(tf.equal(self._targets, tf.argmax(self._output, axis=-1)), tf.float32))\n",
    "        self._loss = tf.losses.mean_squared_error(labels=self._targets, predictions= self._output)\n",
    "        \n",
    "        ## cross entropy loss ( classfication )\n",
    "#         self._table = make_table(config.num_class, smooth = 0.00)\n",
    "#         self._loss = tf.reduce_mean(tf.losses.softmax_cross_entropy(onehot_labels=tf.one_hot(self._targets, depth=config.num_class) , \n",
    "#                                                                     logits = self._output))\n",
    "        \n",
    "        self._init_global_step_and_epoch()\n",
    "        \n",
    "        if self._is_train : \n",
    "            self._train_op = tf.train.AdamOptimizer().minimize(self._loss, global_step = self._global_step)\n",
    "            \n",
    "        loss_summary = tf.summary.scalar(\"train_loss\" if self._is_train else \"val_loss\", self._loss)\n",
    "        acc_summary = tf.summary.scalar(\"train_accuracy\" if self._is_train else \"val_accuracy\", self._acc)\n",
    "        self._merge = tf.summary.merge([loss_summary, acc_summary])\n",
    "\n",
    "        self._init_saver()\n",
    "\n",
    "        print(\"Model is built\")\n",
    "    \n",
    "    \n",
    "    def _init_saver(self):\n",
    "        self._saver = tf.train.Saver()\n",
    "        \n",
    "    def _init_global_step_and_epoch(self):\n",
    "        self._global_step = tf.Variable(0, trainable=False)\n",
    "        self._epoch = tf.Variable(0, trainable=False)\n",
    "\n",
    "    def evaluate(self, sess):\n",
    "        pass\n",
    "\n",
    "    def save(self, sess):\n",
    "        self._saver.save(sess, config.save_path, global_step = self._global_step)\n",
    "        \n",
    "    def load(self, sess):\n",
    "        self._saver.restore(sess, tf.train.latest_checkpoint(config.save_path))"
   ]
  },
  {
   "cell_type": "markdown",
   "metadata": {},
   "source": [
    "### TODO : Modifiy Evaluation Loss "
   ]
  },
  {
   "cell_type": "markdown",
   "metadata": {},
   "source": [
    "**Gpu control**\n",
    "<code>\n",
    "gpu_options = tf.GPUOptions(per_process_gpu_memory_fraction=0.8)\n",
    "with tf.Session(config=tf.ConfigProto(gpu_options=gpu_options)) as sess:\n",
    "</code>"
   ]
  },
  {
   "cell_type": "code",
   "execution_count": 11,
   "metadata": {
    "collapsed": false
   },
   "outputs": [
    {
     "name": "stdout",
     "output_type": "stream",
     "text": [
      "(?, ?, 256)\n",
      "(?, 256)\n",
      "Model is built\n"
     ]
    }
   ],
   "source": [
    "Eval_Model = LSTM_Attention(inputs=val_inputs, \n",
    "                                    targets=val_labels, \n",
    "                                    size=val_size, \n",
    "                                    hparams=hparams, \n",
    "                                    config=config, \n",
    "                                    is_train= False)"
   ]
  },
  {
   "cell_type": "code",
   "execution_count": 12,
   "metadata": {
    "collapsed": false
   },
   "outputs": [
    {
     "name": "stdout",
     "output_type": "stream",
     "text": [
      "Model is built\n",
      "Model is built\n",
      "Loss : 76.9767456055 / Pred : [-1, -1, -1, -1, 0] / Label : [10  9  1  9  1]\n",
      "Loss : 8.88538169861 / Pred : [8, 8, 8, 8, 8] / Label : [ 2  7 10  8  1]\n",
      "Loss : 9.18870544434 / Pred : [8, 8, 7, 8, 8] / Label : [10  8  3  6  9]\n",
      "Loss : 9.05030918121 / Pred : [8, 8, 8, 8, 8] / Label : [ 1  1  8 10 10]\n",
      "Loss : 9.51258182526 / Pred : [8, 8, 8, 8, 8] / Label : [10  8 10  3 10]\n",
      "Loss : 9.00000476837 / Pred : [8, 8, 8, 8, 8] / Label : [10  1  8  5 10]\n",
      "Loss : 8.78531932831 / Pred : [8, 8, 8, 8, 8] / Label : [ 1  9 10 10  9]\n",
      "Loss : 8.70716762543 / Pred : [8, 8, 8, 8, 8] / Label : [10 10  1 10 10]\n",
      "Loss : 7.54428577423 / Pred : [7, 8, 8, 8, 8] / Label : [10  7 10  8  8]\n",
      "Loss : 6.40833902359 / Pred : [6, 9, 8, 8, 9] / Label : [ 8  8 10  3 10]\n",
      "Loss : 6.18607616425 / Pred : [9, 8, 6, 6, 8] / Label : [10 10  5  5 10]\n",
      "Loss : 5.74755001068 / Pred : [4, 9, 7, 8, 7] / Label : [ 1  8  6 10  7]\n",
      "Loss : 5.95609855652 / Pred : [9, 8, 9, 3, 9] / Label : [10  8  8  5 10]\n",
      "Loss : 5.28734111786 / Pred : [9, 9, 9, 9, 9] / Label : [10 10 10  8  7]\n",
      "Loss : 5.63927936554 / Pred : [8, 7, 10, 9, 5] / Label : [ 5  8 10 10  1]\n",
      "Loss : 5.22278881073 / Pred : [4, 9, 10, 7, 9] / Label : [ 2  8  9 10  7]\n",
      "Loss : 5.05686759949 / Pred : [10, 3, 10, 2, 4] / Label : [10  1 10  1  1]\n",
      "Loss : 4.90791273117 / Pred : [9, 10, 9, 3, 8] / Label : [ 6  9  8  1 10]\n",
      "Loss : 4.74792432785 / Pred : [8, 6, 10, 6, 9] / Label : [ 9  5 10  7 10]\n",
      "Loss : 5.04415225983 / Pred : [5, 9, 6, 6, 8] / Label : [ 8  8  6  1 10]\n",
      "Model is saved\n",
      "Loss : 4.50837182999 / Pred : [6, 10, 9, 9, 10] / Label : [ 7 10 10 10  7]\n",
      "Loss : 4.82094097137 / Pred : [6, 9, 5, 9, 3] / Label : [ 5 10  7 10  1]\n",
      "Loss : 4.51412153244 / Pred : [4, 9, 5, 10, 9] / Label : [ 8  9  1  9 10]\n",
      "Loss : 4.52229881287 / Pred : [9, 6, 9, 4, 9] / Label : [8 4 7 1 2]\n",
      "Loss : 4.49435329437 / Pred : [10, 10, 10, 9, 10] / Label : [10 10  8 10 10]\n",
      "Loss : 4.65747070312 / Pred : [9, 10, 9, 9, 9] / Label : [10  8 10 10  8]\n",
      "Loss : 4.65777826309 / Pred : [9, 9, 2, 9, 5] / Label : [ 8 10  1  8  1]\n",
      "Loss : 4.39073705673 / Pred : [9, 4, 10, 9, 9] / Label : [ 8  5 10 10  7]\n",
      "Loss : 4.59481430054 / Pred : [2, 9, 4, 8, 9] / Label : [ 1 10  8 10  7]\n",
      "Loss : 4.55369853973 / Pred : [10, 9, 10, 7, 9] / Label : [10  8 10  7  3]\n",
      "Loss : 4.32397174835 / Pred : [10, 9, 10, 9, 9] / Label : [10  9  9 10 10]\n",
      "Loss : 4.35792589188 / Pred : [3, 9, 9, 3, 8] / Label : [ 5  7 10  1 10]\n",
      "Loss : 4.66447114944 / Pred : [10, 9, 9, 2, 8] / Label : [10  7 10  1  9]\n",
      "Loss : 4.49739313126 / Pred : [9, 10, 10, 8, 10] / Label : [10 10 10  7 10]\n",
      "Loss : 4.67759132385 / Pred : [9, 3, 6, 10, 10] / Label : [10  1  8  9 10]\n",
      "Loss : 4.79413080215 / Pred : [9, 10, 9, 9, 10] / Label : [10 10 10  9 10]\n",
      "Loss : 4.33482408524 / Pred : [10, 10, 9, 8, 10] / Label : [ 9 10  5  8  9]\n",
      "Loss : 4.39476680756 / Pred : [9, 9, 6, 7, 6] / Label : [10 10  5 10 10]\n",
      "Loss : 4.60189342499 / Pred : [10, 9, 8, 9, 7] / Label : [10  6  8 10  7]\n",
      "Loss : 4.38466501236 / Pred : [10, 10, 3, 10, 9] / Label : [10  8 10  8 10]\n",
      "Model is saved\n",
      "Loss : 4.80459356308 / Pred : [10, 8, 8, 10, 8] / Label : [ 9  5  8 10  7]\n",
      "Loss : 4.48854541779 / Pred : [9, 5, 9, 5, 3] / Label : [10  6  7  7  1]\n",
      "Loss : 4.59864807129 / Pred : [7, 9, 8, 10, 9] / Label : [ 6 10  8  9 10]\n",
      "Loss : 4.42632341385 / Pred : [7, 7, 6, 6, 7] / Label : [9 2 7 8 9]\n",
      "Loss : 4.12317037582 / Pred : [9, 2, 10, 10, 7] / Label : [ 9  2 10 10  7]\n",
      "Loss : 4.77504014969 / Pred : [6, 9, 2, 9, 2] / Label : [10  9  1  9  1]\n",
      "Loss : 4.87882947922 / Pred : [8, 8, 9, 8, 5] / Label : [ 2  7 10  8  1]\n",
      "Loss : 4.66305780411 / Pred : [9, 7, 6, 9, 8] / Label : [10  8  3  6  9]\n",
      "Loss : 4.62705135345 / Pred : [3, 3, 9, 10, 9] / Label : [ 1  1  8 10 10]\n",
      "Loss : 4.85576486588 / Pred : [9, 9, 10, 5, 10] / Label : [10  8 10  3 10]\n",
      "Loss : 4.74372148514 / Pred : [10, 8, 9, 7, 8] / Label : [10  1  8  5 10]\n",
      "Loss : 4.93112659454 / Pred : [2, 8, 9, 10, 9] / Label : [ 1  9 10 10  9]\n",
      "Loss : 4.80790376663 / Pred : [10, 10, 4, 9, 7] / Label : [10 10  1 10 10]\n",
      "Loss : 4.70700883865 / Pred : [8, 9, 10, 9, 6] / Label : [10  7 10  8  8]\n",
      "Loss : 4.82376194 / Pred : [9, 9, 9, 8, 10] / Label : [ 8  8 10  3 10]\n",
      "Loss : 4.68031024933 / Pred : [9, 8, 7, 5, 9] / Label : [10 10  5  5 10]\n",
      "Loss : 4.46882963181 / Pred : [4, 8, 5, 8, 5] / Label : [ 1  8  6 10  7]\n",
      "Loss : 4.76644134521 / Pred : [9, 9, 7, 2, 10] / Label : [10  8  8  5 10]\n",
      "Loss : 4.77915859222 / Pred : [9, 8, 9, 9, 8] / Label : [10 10 10  8  7]\n",
      "Loss : 4.54642438889 / Pred : [8, 6, 10, 9, 2] / Label : [ 5  8 10 10  1]\n",
      "Model is saved\n",
      "Loss : 4.72888374329 / Pred : [2, 9, 10, 9, 9] / Label : [ 2  8  9 10  7]\n"
     ]
    },
    {
     "ename": "KeyboardInterrupt",
     "evalue": "",
     "output_type": "error",
     "traceback": [
      "\u001b[0;31m---------------------------------------------------------------------------\u001b[0m",
      "\u001b[0;31mKeyboardInterrupt\u001b[0m                         Traceback (most recent call last)",
      "\u001b[0;32m<ipython-input-12-399d5f044b51>\u001b[0m in \u001b[0;36m<module>\u001b[0;34m()\u001b[0m\n\u001b[1;32m     26\u001b[0m \u001b[0;34m\u001b[0m\u001b[0m\n\u001b[1;32m     27\u001b[0m             \u001b[0;32melse\u001b[0m \u001b[0;34m:\u001b[0m\u001b[0;34m\u001b[0m\u001b[0m\n\u001b[0;32m---> 28\u001b[0;31m                 \u001b[0m_\u001b[0m\u001b[0;34m,\u001b[0m \u001b[0mstep\u001b[0m \u001b[0;34m=\u001b[0m \u001b[0msess\u001b[0m\u001b[0;34m.\u001b[0m\u001b[0mrun\u001b[0m\u001b[0;34m(\u001b[0m\u001b[0;34m[\u001b[0m\u001b[0mTrain_Model\u001b[0m\u001b[0;34m.\u001b[0m\u001b[0mtrain_op\u001b[0m\u001b[0;34m,\u001b[0m \u001b[0mTrain_Model\u001b[0m\u001b[0;34m.\u001b[0m\u001b[0mglobal_step\u001b[0m\u001b[0;34m]\u001b[0m\u001b[0;34m)\u001b[0m\u001b[0;34m\u001b[0m\u001b[0m\n\u001b[0m\u001b[1;32m     29\u001b[0m \u001b[0;34m\u001b[0m\u001b[0m\n\u001b[1;32m     30\u001b[0m             \u001b[0;32mif\u001b[0m \u001b[0;34m(\u001b[0m\u001b[0mstep\u001b[0m \u001b[0;34m%\u001b[0m \u001b[0mconfig\u001b[0m\u001b[0;34m.\u001b[0m\u001b[0msave_every_step\u001b[0m \u001b[0;34m==\u001b[0m\u001b[0;36m0\u001b[0m\u001b[0;34m)\u001b[0m\u001b[0;34m:\u001b[0m\u001b[0;34m\u001b[0m\u001b[0m\n",
      "\u001b[0;32m/home/public_milab/anaconda2/lib/python2.7/site-packages/tensorflow/python/client/session.pyc\u001b[0m in \u001b[0;36mrun\u001b[0;34m(self, fetches, feed_dict, options, run_metadata)\u001b[0m\n\u001b[1;32m    887\u001b[0m     \u001b[0;32mtry\u001b[0m\u001b[0;34m:\u001b[0m\u001b[0;34m\u001b[0m\u001b[0m\n\u001b[1;32m    888\u001b[0m       result = self._run(None, fetches, feed_dict, options_ptr,\n\u001b[0;32m--> 889\u001b[0;31m                          run_metadata_ptr)\n\u001b[0m\u001b[1;32m    890\u001b[0m       \u001b[0;32mif\u001b[0m \u001b[0mrun_metadata\u001b[0m\u001b[0;34m:\u001b[0m\u001b[0;34m\u001b[0m\u001b[0m\n\u001b[1;32m    891\u001b[0m         \u001b[0mproto_data\u001b[0m \u001b[0;34m=\u001b[0m \u001b[0mtf_session\u001b[0m\u001b[0;34m.\u001b[0m\u001b[0mTF_GetBuffer\u001b[0m\u001b[0;34m(\u001b[0m\u001b[0mrun_metadata_ptr\u001b[0m\u001b[0;34m)\u001b[0m\u001b[0;34m\u001b[0m\u001b[0m\n",
      "\u001b[0;32m/home/public_milab/anaconda2/lib/python2.7/site-packages/tensorflow/python/client/session.pyc\u001b[0m in \u001b[0;36m_run\u001b[0;34m(self, handle, fetches, feed_dict, options, run_metadata)\u001b[0m\n\u001b[1;32m   1118\u001b[0m     \u001b[0;32mif\u001b[0m \u001b[0mfinal_fetches\u001b[0m \u001b[0;32mor\u001b[0m \u001b[0mfinal_targets\u001b[0m \u001b[0;32mor\u001b[0m \u001b[0;34m(\u001b[0m\u001b[0mhandle\u001b[0m \u001b[0;32mand\u001b[0m \u001b[0mfeed_dict_tensor\u001b[0m\u001b[0;34m)\u001b[0m\u001b[0;34m:\u001b[0m\u001b[0;34m\u001b[0m\u001b[0m\n\u001b[1;32m   1119\u001b[0m       results = self._do_run(handle, final_targets, final_fetches,\n\u001b[0;32m-> 1120\u001b[0;31m                              feed_dict_tensor, options, run_metadata)\n\u001b[0m\u001b[1;32m   1121\u001b[0m     \u001b[0;32melse\u001b[0m\u001b[0;34m:\u001b[0m\u001b[0;34m\u001b[0m\u001b[0m\n\u001b[1;32m   1122\u001b[0m       \u001b[0mresults\u001b[0m \u001b[0;34m=\u001b[0m \u001b[0;34m[\u001b[0m\u001b[0;34m]\u001b[0m\u001b[0;34m\u001b[0m\u001b[0m\n",
      "\u001b[0;32m/home/public_milab/anaconda2/lib/python2.7/site-packages/tensorflow/python/client/session.pyc\u001b[0m in \u001b[0;36m_do_run\u001b[0;34m(self, handle, target_list, fetch_list, feed_dict, options, run_metadata)\u001b[0m\n\u001b[1;32m   1315\u001b[0m     \u001b[0;32mif\u001b[0m \u001b[0mhandle\u001b[0m \u001b[0;32mis\u001b[0m \u001b[0mNone\u001b[0m\u001b[0;34m:\u001b[0m\u001b[0;34m\u001b[0m\u001b[0m\n\u001b[1;32m   1316\u001b[0m       return self._do_call(_run_fn, self._session, feeds, fetches, targets,\n\u001b[0;32m-> 1317\u001b[0;31m                            options, run_metadata)\n\u001b[0m\u001b[1;32m   1318\u001b[0m     \u001b[0;32melse\u001b[0m\u001b[0;34m:\u001b[0m\u001b[0;34m\u001b[0m\u001b[0m\n\u001b[1;32m   1319\u001b[0m       \u001b[0;32mreturn\u001b[0m \u001b[0mself\u001b[0m\u001b[0;34m.\u001b[0m\u001b[0m_do_call\u001b[0m\u001b[0;34m(\u001b[0m\u001b[0m_prun_fn\u001b[0m\u001b[0;34m,\u001b[0m \u001b[0mself\u001b[0m\u001b[0;34m.\u001b[0m\u001b[0m_session\u001b[0m\u001b[0;34m,\u001b[0m \u001b[0mhandle\u001b[0m\u001b[0;34m,\u001b[0m \u001b[0mfeeds\u001b[0m\u001b[0;34m,\u001b[0m \u001b[0mfetches\u001b[0m\u001b[0;34m)\u001b[0m\u001b[0;34m\u001b[0m\u001b[0m\n",
      "\u001b[0;32m/home/public_milab/anaconda2/lib/python2.7/site-packages/tensorflow/python/client/session.pyc\u001b[0m in \u001b[0;36m_do_call\u001b[0;34m(self, fn, *args)\u001b[0m\n\u001b[1;32m   1321\u001b[0m   \u001b[0;32mdef\u001b[0m \u001b[0m_do_call\u001b[0m\u001b[0;34m(\u001b[0m\u001b[0mself\u001b[0m\u001b[0;34m,\u001b[0m \u001b[0mfn\u001b[0m\u001b[0;34m,\u001b[0m \u001b[0;34m*\u001b[0m\u001b[0margs\u001b[0m\u001b[0;34m)\u001b[0m\u001b[0;34m:\u001b[0m\u001b[0;34m\u001b[0m\u001b[0m\n\u001b[1;32m   1322\u001b[0m     \u001b[0;32mtry\u001b[0m\u001b[0;34m:\u001b[0m\u001b[0;34m\u001b[0m\u001b[0m\n\u001b[0;32m-> 1323\u001b[0;31m       \u001b[0;32mreturn\u001b[0m \u001b[0mfn\u001b[0m\u001b[0;34m(\u001b[0m\u001b[0;34m*\u001b[0m\u001b[0margs\u001b[0m\u001b[0;34m)\u001b[0m\u001b[0;34m\u001b[0m\u001b[0m\n\u001b[0m\u001b[1;32m   1324\u001b[0m     \u001b[0;32mexcept\u001b[0m \u001b[0merrors\u001b[0m\u001b[0;34m.\u001b[0m\u001b[0mOpError\u001b[0m \u001b[0;32mas\u001b[0m \u001b[0me\u001b[0m\u001b[0;34m:\u001b[0m\u001b[0;34m\u001b[0m\u001b[0m\n\u001b[1;32m   1325\u001b[0m       \u001b[0mmessage\u001b[0m \u001b[0;34m=\u001b[0m \u001b[0mcompat\u001b[0m\u001b[0;34m.\u001b[0m\u001b[0mas_text\u001b[0m\u001b[0;34m(\u001b[0m\u001b[0me\u001b[0m\u001b[0;34m.\u001b[0m\u001b[0mmessage\u001b[0m\u001b[0;34m)\u001b[0m\u001b[0;34m\u001b[0m\u001b[0m\n",
      "\u001b[0;32m/home/public_milab/anaconda2/lib/python2.7/site-packages/tensorflow/python/client/session.pyc\u001b[0m in \u001b[0;36m_run_fn\u001b[0;34m(session, feed_dict, fetch_list, target_list, options, run_metadata)\u001b[0m\n\u001b[1;32m   1300\u001b[0m           return tf_session.TF_Run(session, options,\n\u001b[1;32m   1301\u001b[0m                                    \u001b[0mfeed_dict\u001b[0m\u001b[0;34m,\u001b[0m \u001b[0mfetch_list\u001b[0m\u001b[0;34m,\u001b[0m \u001b[0mtarget_list\u001b[0m\u001b[0;34m,\u001b[0m\u001b[0;34m\u001b[0m\u001b[0m\n\u001b[0;32m-> 1302\u001b[0;31m                                    status, run_metadata)\n\u001b[0m\u001b[1;32m   1303\u001b[0m \u001b[0;34m\u001b[0m\u001b[0m\n\u001b[1;32m   1304\u001b[0m     \u001b[0;32mdef\u001b[0m \u001b[0m_prun_fn\u001b[0m\u001b[0;34m(\u001b[0m\u001b[0msession\u001b[0m\u001b[0;34m,\u001b[0m \u001b[0mhandle\u001b[0m\u001b[0;34m,\u001b[0m \u001b[0mfeed_dict\u001b[0m\u001b[0;34m,\u001b[0m \u001b[0mfetch_list\u001b[0m\u001b[0;34m)\u001b[0m\u001b[0;34m:\u001b[0m\u001b[0;34m\u001b[0m\u001b[0m\n",
      "\u001b[0;31mKeyboardInterrupt\u001b[0m: "
     ]
    }
   ],
   "source": [
    "with tf.Session() as sess:\n",
    "    \n",
    "    train_writer = tf.summary.FileWriter(config.log_path, sess.graph)\n",
    "    val_writer = tf.summary.FileWriter(config.log_path + '/validation')\n",
    "\n",
    "    with tf.variable_scope(\"root\"):\n",
    "        \n",
    "        Train_Model = LSTM_Attention(train_inputs, train_labels, train_size, hparams, config, is_train = True)\n",
    "    \n",
    "    with tf.variable_scope(\"root\", reuse=True):\n",
    "        \n",
    "        Eval_Model = LSTM_Attention(inputs=val_inputs, \n",
    "                                    targets=val_labels, \n",
    "                                    size=val_size, \n",
    "                                    hparams=hparams, \n",
    "                                    config=config, \n",
    "                                    is_train= False)\n",
    "        \n",
    "        sess.run([tf.global_variables_initializer(), tf.tables_initializer(), train_data_init, val_data_init])        \n",
    "        step, epoch = sess.run([Train_Model.global_step, Train_Model.epoch])\n",
    "        \n",
    "    while True:\n",
    "        try:\n",
    "            if (step % config.summary_every_step == 0):                \n",
    "                _, summary, step = sess.run([Train_Model.train_op, Train_Model.summary_op, Train_Model.global_step])\n",
    "                train_writer.add_summary(summary, step)                                \n",
    "                \n",
    "                summary, accuracy, pred, label, loss = sess.run([Eval_Model.summary_op, \n",
    "                                                                 Eval_Model._acc, \n",
    "                                                                 Eval_Model._output, \n",
    "                                                                 Eval_Model._targets, \n",
    "                                                                 Eval_Model._loss])\n",
    "                val_writer.add_summary(summary, step)             \n",
    "                print(\"Step: {} / Loss : {} / Pred : {} / Label : {}\".format(step, loss, map(lambda x : int(round(x)), pred[:5]), label[:5]))\n",
    "\n",
    "            else :\n",
    "                _, step = sess.run([Train_Model.train_op, Train_Model.global_step])\n",
    "                \n",
    "            if (step % config.save_every_step ==0):\n",
    "                Train_Model.save(sess)\n",
    "                print(\"Model is saved\")\n",
    "                \n",
    "        except tf.errors.OutOfRangeError:\n",
    "            print(\"Training is done\")\n",
    "            break "
   ]
  },
  {
   "cell_type": "markdown",
   "metadata": {},
   "source": [
    "## Bidirectional Encoding with Attention"
   ]
  },
  {
   "cell_type": "markdown",
   "metadata": {},
   "source": [
    "##  Convolution"
   ]
  },
  {
   "cell_type": "markdown",
   "metadata": {},
   "source": [
    "## Attention"
   ]
  },
  {
   "cell_type": "code",
   "execution_count": null,
   "metadata": {
    "collapsed": true
   },
   "outputs": [],
   "source": [
    "def text_decoder(array):\n",
    "    return \" \".join([int2word.get(i).decode('utf-8') for i in array])"
   ]
  },
  {
   "cell_type": "code",
   "execution_count": null,
   "metadata": {
    "collapsed": false
   },
   "outputs": [],
   "source": [
    "with tf.Session() as sess:\n",
    "    sess.run([tf.global_variables_initializer(),tf.tables_initializer(), data_iter.initializer])\n",
    "    input_ , label_ = sess.run([inputs, labels])\n",
    "    print(input_)\n",
    "    print(label_)"
   ]
  },
  {
   "cell_type": "code",
   "execution_count": null,
   "metadata": {
    "collapsed": true
   },
   "outputs": [],
   "source": []
  }
 ],
 "metadata": {
  "anaconda-cloud": {},
  "kernelspec": {
   "display_name": "Python [default]",
   "language": "python",
   "name": "python2"
  },
  "language_info": {
   "codemirror_mode": {
    "name": "ipython",
    "version": 2
   },
   "file_extension": ".py",
   "mimetype": "text/x-python",
   "name": "python",
   "nbconvert_exporter": "python",
   "pygments_lexer": "ipython2",
   "version": "2.7.12"
  }
 },
 "nbformat": 4,
 "nbformat_minor": 1
}
